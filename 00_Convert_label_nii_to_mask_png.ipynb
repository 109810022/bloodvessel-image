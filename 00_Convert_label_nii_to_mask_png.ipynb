{
  "nbformat": 4,
  "nbformat_minor": 0,
  "metadata": {
    "colab": {
      "provenance": [],
      "include_colab_link": true
    },
    "kernelspec": {
      "name": "python3",
      "display_name": "Python 3"
    },
    "language_info": {
      "name": "python"
    }
  },
  "cells": [
    {
      "cell_type": "markdown",
      "metadata": {
        "id": "view-in-github",
        "colab_type": "text"
      },
      "source": [
        "<a href=\"https://colab.research.google.com/github/109810022/bloodvessel-image/blob/main/00_Convert_label_nii_to_mask_png.ipynb\" target=\"_parent\"><img src=\"https://colab.research.google.com/assets/colab-badge.svg\" alt=\"Open In Colab\"/></a>"
      ]
    },
    {
      "cell_type": "code",
      "execution_count": null,
      "metadata": {
        "id": "kCKbyb9YM8Vx",
        "colab": {
          "base_uri": "https://localhost:8080/"
        },
        "outputId": "9f3e4c97-1339-4899-e5e3-169fa57baaf9"
      },
      "outputs": [
        {
          "output_type": "stream",
          "name": "stdout",
          "text": [
            "Looking in indexes: https://pypi.org/simple, https://us-python.pkg.dev/colab-wheels/public/simple/\n",
            "Collecting SimpleITK\n",
            "  Downloading SimpleITK-2.2.1-cp39-cp39-manylinux_2_17_x86_64.manylinux2014_x86_64.whl (52.7 MB)\n",
            "\u001b[2K     \u001b[90m━━━━━━━━━━━━━━━━━━━━━━━━━━━━━━━━━━━━━━━━\u001b[0m \u001b[32m52.7/52.7 MB\u001b[0m \u001b[31m12.5 MB/s\u001b[0m eta \u001b[36m0:00:00\u001b[0m\n",
            "\u001b[?25hInstalling collected packages: SimpleITK\n",
            "Successfully installed SimpleITK-2.2.1\n"
          ]
        }
      ],
      "source": [
        "# 安裝所需套件\n",
        "!pip install SimpleITK"
      ]
    },
    {
      "cell_type": "code",
      "source": [
        "# 匯入相關套件功能\n",
        "import glob\n",
        "from PIL import Image\n",
        "import numpy as np\n",
        "import SimpleITK as sitk\n",
        "import matplotlib.pyplot as plt"
      ],
      "metadata": {
        "id": "K8JvYA10NB6R"
      },
      "execution_count": null,
      "outputs": []
    },
    {
      "cell_type": "markdown",
      "source": [
        "# Nifty to PNG"
      ],
      "metadata": {
        "id": "0xpJKZJLLXYz"
      }
    },
    {
      "cell_type": "code",
      "source": [
        "# 找尋 Nifity 檔案\n",
        "nii_file = glob.glob(\"*.nii*\")[-1]\n",
        "print(\"nii_file =\", nii_file)"
      ],
      "metadata": {
        "id": "BpcN64I_Ncju"
      },
      "execution_count": null,
      "outputs": []
    },
    {
      "cell_type": "code",
      "source": [
        "# 讀取 影像\n",
        "itk_image = sitk.ReadImage(nii_file)  # Read file\n",
        "origin = itk_image.GetOrigin()\n",
        "print(\"origin =\", origin)\n",
        "spacing = itk_image.GetSpacing()\n",
        "print(\"spacing =\", spacing)\n",
        "image_arr = sitk.GetArrayFromImage(itk_image)[0]  # Get raw data\n",
        "print(\"image_arr shape =\", image_arr.shape)\n",
        "# 繪製\n",
        "plt.imshow(image_arr, cmap='gray')\n",
        "plt.show()"
      ],
      "metadata": {
        "id": "km1XIUT8OK0t",
        "colab": {
          "base_uri": "https://localhost:8080/",
          "height": 236
        },
        "outputId": "09e46d5a-291f-4621-db85-040d9f6c1455"
      },
      "execution_count": null,
      "outputs": [
        {
          "output_type": "error",
          "ename": "NameError",
          "evalue": "ignored",
          "traceback": [
            "\u001b[0;31m---------------------------------------------------------------------------\u001b[0m",
            "\u001b[0;31mNameError\u001b[0m                                 Traceback (most recent call last)",
            "\u001b[0;32m<ipython-input-6-09cfc5ef6c00>\u001b[0m in \u001b[0;36m<cell line: 2>\u001b[0;34m()\u001b[0m\n\u001b[1;32m      1\u001b[0m \u001b[0;31m# 讀取 影像\u001b[0m\u001b[0;34m\u001b[0m\u001b[0;34m\u001b[0m\u001b[0m\n\u001b[0;32m----> 2\u001b[0;31m \u001b[0mitk_image\u001b[0m \u001b[0;34m=\u001b[0m \u001b[0msitk\u001b[0m\u001b[0;34m.\u001b[0m\u001b[0mReadImage\u001b[0m\u001b[0;34m(\u001b[0m\u001b[0mnii_file\u001b[0m\u001b[0;34m)\u001b[0m  \u001b[0;31m# Read file\u001b[0m\u001b[0;34m\u001b[0m\u001b[0;34m\u001b[0m\u001b[0m\n\u001b[0m\u001b[1;32m      3\u001b[0m \u001b[0morigin\u001b[0m \u001b[0;34m=\u001b[0m \u001b[0mitk_image\u001b[0m\u001b[0;34m.\u001b[0m\u001b[0mGetOrigin\u001b[0m\u001b[0;34m(\u001b[0m\u001b[0;34m)\u001b[0m\u001b[0;34m\u001b[0m\u001b[0;34m\u001b[0m\u001b[0m\n\u001b[1;32m      4\u001b[0m \u001b[0mprint\u001b[0m\u001b[0;34m(\u001b[0m\u001b[0;34m\"origin =\"\u001b[0m\u001b[0;34m,\u001b[0m \u001b[0morigin\u001b[0m\u001b[0;34m)\u001b[0m\u001b[0;34m\u001b[0m\u001b[0;34m\u001b[0m\u001b[0m\n\u001b[1;32m      5\u001b[0m \u001b[0mspacing\u001b[0m \u001b[0;34m=\u001b[0m \u001b[0mitk_image\u001b[0m\u001b[0;34m.\u001b[0m\u001b[0mGetSpacing\u001b[0m\u001b[0;34m(\u001b[0m\u001b[0;34m)\u001b[0m\u001b[0;34m\u001b[0m\u001b[0;34m\u001b[0m\u001b[0m\n",
            "\u001b[0;31mNameError\u001b[0m: name 'nii_file' is not defined"
          ]
        }
      ]
    },
    {
      "cell_type": "code",
      "source": [
        "# 轉存為 PNG 圖檔\n",
        "out_file = nii_file.split('.')[0] + \"_255.png\"\n",
        "image = Image.fromarray(np.uint8(image_arr * 255))\n",
        "image.save(out_file, \"PNG\")"
      ],
      "metadata": {
        "id": "2TDkZ9rqP9AZ"
      },
      "execution_count": null,
      "outputs": []
    },
    {
      "cell_type": "markdown",
      "source": [
        "# PNG to Nifty"
      ],
      "metadata": {
        "id": "zV3kpBimLdqI"
      }
    },
    {
      "cell_type": "code",
      "source": [
        "# 找尋 PNG 圖檔\n",
        "png_file = glob.glob(\"*.png\")[-1]\n",
        "print(\"png_file =\", png_file)"
      ],
      "metadata": {
        "id": "As4TSpsvnLMP"
      },
      "execution_count": null,
      "outputs": []
    },
    {
      "cell_type": "code",
      "source": [
        "# 讀取 影像\n",
        "image = Image.open(png_file).convert('L')  # Read file\n",
        "image_arr = np.asarray(image)\n",
        "print(\"image_arr shape =\", image_arr.shape)\n",
        "# 繪製\n",
        "plt.imshow(image_arr, cmap='gray')\n",
        "plt.show()"
      ],
      "metadata": {
        "id": "rIM34DwfMHBd"
      },
      "execution_count": null,
      "outputs": []
    },
    {
      "cell_type": "code",
      "source": [
        "# 轉存為 nii.gz 檔案\n",
        "itk_image = sitk.GetImageFromArray(np.uint8(image_arr[np.newaxis,:,:] > 0))\n",
        "# itk_image.SetOrigin(origin)\n",
        "# itk_image.SetSpacing(spacing)\n",
        "out_file = png_file.replace(\".png\", \"_.nii.gz\")\n",
        "sitk.WriteImage(itk_image, out_file)"
      ],
      "metadata": {
        "id": "geneZ9bgMqCF"
      },
      "execution_count": null,
      "outputs": []
    },
    {
      "cell_type": "code",
      "source": [],
      "metadata": {
        "id": "NG1pFZa3Py2b"
      },
      "execution_count": null,
      "outputs": []
    }
  ]
}